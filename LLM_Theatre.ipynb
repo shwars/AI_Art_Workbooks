{
  "nbformat": 4,
  "nbformat_minor": 0,
  "metadata": {
    "colab": {
      "provenance": []
    },
    "kernelspec": {
      "name": "python3",
      "display_name": "Python 3"
    },
    "language_info": {
      "name": "python"
    }
  },
  "cells": [
    {
      "cell_type": "markdown",
      "source": [
        "## Театр LLM\n",
        "\n",
        "В этом ноутбке мы пытаемся заставить несколько языковых моделей беседовать друг с другом.\n",
        "\n",
        "В качестве базовой библиотеки будем использовать LangChain."
      ],
      "metadata": {
        "id": "G7rwLV0f8W0U"
      }
    },
    {
      "cell_type": "code",
      "execution_count": 2,
      "metadata": {
        "colab": {
          "base_uri": "https://localhost:8080/"
        },
        "id": "ZblJDpn08UYc",
        "outputId": "ee42ebd5-a179-4382-c32e-686fbc8501c8"
      },
      "outputs": [
        {
          "output_type": "stream",
          "name": "stdout",
          "text": [
            "Requirement already satisfied: langchain==0.2.6 in /usr/local/lib/python3.10/dist-packages (0.2.6)\n",
            "Requirement already satisfied: langchain_community==0.2.6 in /usr/local/lib/python3.10/dist-packages (0.2.6)\n",
            "Requirement already satisfied: yandexcloud==0.300.0 in /usr/local/lib/python3.10/dist-packages (0.300.0)\n",
            "Requirement already satisfied: gigachat==0.1.31 in /usr/local/lib/python3.10/dist-packages (0.1.31)\n",
            "Requirement already satisfied: PyYAML>=5.3 in /usr/local/lib/python3.10/dist-packages (from langchain==0.2.6) (6.0.1)\n",
            "Requirement already satisfied: SQLAlchemy<3,>=1.4 in /usr/local/lib/python3.10/dist-packages (from langchain==0.2.6) (2.0.31)\n",
            "Requirement already satisfied: aiohttp<4.0.0,>=3.8.3 in /usr/local/lib/python3.10/dist-packages (from langchain==0.2.6) (3.9.5)\n",
            "Requirement already satisfied: async-timeout<5.0.0,>=4.0.0 in /usr/local/lib/python3.10/dist-packages (from langchain==0.2.6) (4.0.3)\n",
            "Requirement already satisfied: langchain-core<0.3.0,>=0.2.10 in /usr/local/lib/python3.10/dist-packages (from langchain==0.2.6) (0.2.11)\n",
            "Requirement already satisfied: langchain-text-splitters<0.3.0,>=0.2.0 in /usr/local/lib/python3.10/dist-packages (from langchain==0.2.6) (0.2.2)\n",
            "Requirement already satisfied: langsmith<0.2.0,>=0.1.17 in /usr/local/lib/python3.10/dist-packages (from langchain==0.2.6) (0.1.83)\n",
            "Requirement already satisfied: numpy<2,>=1 in /usr/local/lib/python3.10/dist-packages (from langchain==0.2.6) (1.25.2)\n",
            "Requirement already satisfied: pydantic<3,>=1 in /usr/local/lib/python3.10/dist-packages (from langchain==0.2.6) (2.8.0)\n",
            "Requirement already satisfied: requests<3,>=2 in /usr/local/lib/python3.10/dist-packages (from langchain==0.2.6) (2.32.3)\n",
            "Requirement already satisfied: tenacity!=8.4.0,<9.0.0,>=8.1.0 in /usr/local/lib/python3.10/dist-packages (from langchain==0.2.6) (8.4.2)\n",
            "Requirement already satisfied: dataclasses-json<0.7,>=0.5.7 in /usr/local/lib/python3.10/dist-packages (from langchain_community==0.2.6) (0.6.7)\n",
            "Requirement already satisfied: cryptography<43,>=42.0.7 in /usr/local/lib/python3.10/dist-packages (from yandexcloud==0.300.0) (42.0.8)\n",
            "Requirement already satisfied: grpcio<2,>=1.64.0 in /usr/local/lib/python3.10/dist-packages (from yandexcloud==0.300.0) (1.64.1)\n",
            "Requirement already satisfied: protobuf<5,>=4.25.3 in /usr/local/lib/python3.10/dist-packages (from yandexcloud==0.300.0) (4.25.3)\n",
            "Requirement already satisfied: googleapis-common-protos<2,>=1.63.0 in /usr/local/lib/python3.10/dist-packages (from yandexcloud==0.300.0) (1.63.2)\n",
            "Requirement already satisfied: pyjwt<3,>=2.8.0 in /usr/local/lib/python3.10/dist-packages (from yandexcloud==0.300.0) (2.8.0)\n",
            "Requirement already satisfied: six<2,>=1.16.0 in /usr/local/lib/python3.10/dist-packages (from yandexcloud==0.300.0) (1.16.0)\n",
            "Requirement already satisfied: httpx<1 in /usr/local/lib/python3.10/dist-packages (from gigachat==0.1.31) (0.27.0)\n",
            "Requirement already satisfied: aiosignal>=1.1.2 in /usr/local/lib/python3.10/dist-packages (from aiohttp<4.0.0,>=3.8.3->langchain==0.2.6) (1.3.1)\n",
            "Requirement already satisfied: attrs>=17.3.0 in /usr/local/lib/python3.10/dist-packages (from aiohttp<4.0.0,>=3.8.3->langchain==0.2.6) (23.2.0)\n",
            "Requirement already satisfied: frozenlist>=1.1.1 in /usr/local/lib/python3.10/dist-packages (from aiohttp<4.0.0,>=3.8.3->langchain==0.2.6) (1.4.1)\n",
            "Requirement already satisfied: multidict<7.0,>=4.5 in /usr/local/lib/python3.10/dist-packages (from aiohttp<4.0.0,>=3.8.3->langchain==0.2.6) (6.0.5)\n",
            "Requirement already satisfied: yarl<2.0,>=1.0 in /usr/local/lib/python3.10/dist-packages (from aiohttp<4.0.0,>=3.8.3->langchain==0.2.6) (1.9.4)\n",
            "Requirement already satisfied: cffi>=1.12 in /usr/local/lib/python3.10/dist-packages (from cryptography<43,>=42.0.7->yandexcloud==0.300.0) (1.16.0)\n",
            "Requirement already satisfied: marshmallow<4.0.0,>=3.18.0 in /usr/local/lib/python3.10/dist-packages (from dataclasses-json<0.7,>=0.5.7->langchain_community==0.2.6) (3.21.3)\n",
            "Requirement already satisfied: typing-inspect<1,>=0.4.0 in /usr/local/lib/python3.10/dist-packages (from dataclasses-json<0.7,>=0.5.7->langchain_community==0.2.6) (0.9.0)\n",
            "Requirement already satisfied: anyio in /usr/local/lib/python3.10/dist-packages (from httpx<1->gigachat==0.1.31) (3.7.1)\n",
            "Requirement already satisfied: certifi in /usr/local/lib/python3.10/dist-packages (from httpx<1->gigachat==0.1.31) (2024.6.2)\n",
            "Requirement already satisfied: httpcore==1.* in /usr/local/lib/python3.10/dist-packages (from httpx<1->gigachat==0.1.31) (1.0.5)\n",
            "Requirement already satisfied: idna in /usr/local/lib/python3.10/dist-packages (from httpx<1->gigachat==0.1.31) (3.7)\n",
            "Requirement already satisfied: sniffio in /usr/local/lib/python3.10/dist-packages (from httpx<1->gigachat==0.1.31) (1.3.1)\n",
            "Requirement already satisfied: h11<0.15,>=0.13 in /usr/local/lib/python3.10/dist-packages (from httpcore==1.*->httpx<1->gigachat==0.1.31) (0.14.0)\n",
            "Requirement already satisfied: jsonpatch<2.0,>=1.33 in /usr/local/lib/python3.10/dist-packages (from langchain-core<0.3.0,>=0.2.10->langchain==0.2.6) (1.33)\n",
            "Requirement already satisfied: packaging<25,>=23.2 in /usr/local/lib/python3.10/dist-packages (from langchain-core<0.3.0,>=0.2.10->langchain==0.2.6) (24.1)\n",
            "Requirement already satisfied: orjson<4.0.0,>=3.9.14 in /usr/local/lib/python3.10/dist-packages (from langsmith<0.2.0,>=0.1.17->langchain==0.2.6) (3.10.6)\n",
            "Requirement already satisfied: annotated-types>=0.4.0 in /usr/local/lib/python3.10/dist-packages (from pydantic<3,>=1->langchain==0.2.6) (0.7.0)\n",
            "Requirement already satisfied: pydantic-core==2.20.0 in /usr/local/lib/python3.10/dist-packages (from pydantic<3,>=1->langchain==0.2.6) (2.20.0)\n",
            "Requirement already satisfied: typing-extensions>=4.6.1 in /usr/local/lib/python3.10/dist-packages (from pydantic<3,>=1->langchain==0.2.6) (4.12.2)\n",
            "Requirement already satisfied: charset-normalizer<4,>=2 in /usr/local/lib/python3.10/dist-packages (from requests<3,>=2->langchain==0.2.6) (3.3.2)\n",
            "Requirement already satisfied: urllib3<3,>=1.21.1 in /usr/local/lib/python3.10/dist-packages (from requests<3,>=2->langchain==0.2.6) (2.0.7)\n",
            "Requirement already satisfied: greenlet!=0.4.17 in /usr/local/lib/python3.10/dist-packages (from SQLAlchemy<3,>=1.4->langchain==0.2.6) (3.0.3)\n",
            "Requirement already satisfied: pycparser in /usr/local/lib/python3.10/dist-packages (from cffi>=1.12->cryptography<43,>=42.0.7->yandexcloud==0.300.0) (2.22)\n",
            "Requirement already satisfied: jsonpointer>=1.9 in /usr/local/lib/python3.10/dist-packages (from jsonpatch<2.0,>=1.33->langchain-core<0.3.0,>=0.2.10->langchain==0.2.6) (3.0.0)\n",
            "Requirement already satisfied: mypy-extensions>=0.3.0 in /usr/local/lib/python3.10/dist-packages (from typing-inspect<1,>=0.4.0->dataclasses-json<0.7,>=0.5.7->langchain_community==0.2.6) (1.0.0)\n",
            "Requirement already satisfied: exceptiongroup in /usr/local/lib/python3.10/dist-packages (from anyio->httpx<1->gigachat==0.1.31) (1.2.1)\n"
          ]
        }
      ],
      "source": [
        "%pip install langchain==0.2.6 langchain_community==0.2.6 yandexcloud==0.300.0 gigachat==0.1.31"
      ]
    },
    {
      "cell_type": "markdown",
      "source": [
        "Для доступа к генеративным моделям, потребуются ключи доступа. Разместите их в файле `config.json` следующего вида:\n",
        "```json\n",
        "{\n",
        "    \"folder_id\" : \"Yandex Folder ID\",\n",
        "    \"api_key\" : \"Yandex API Key\",\n",
        "    \"gigachain_auth\" : \"GigaChain Key\"\n",
        "}\n",
        "```"
      ],
      "metadata": {
        "id": "dTRXnWki8-hU"
      }
    },
    {
      "cell_type": "code",
      "source": [
        "import json\n",
        "config = json.load(open('config.json'))"
      ],
      "metadata": {
        "id": "195BcEvz8eJc"
      },
      "execution_count": 3,
      "outputs": []
    },
    {
      "cell_type": "markdown",
      "source": [
        "Создаём языковые модели:"
      ],
      "metadata": {
        "id": "7065MAvYAIim"
      }
    },
    {
      "cell_type": "code",
      "source": [
        "from langchain.chat_models import ChatYandexGPT, GigaChat\n",
        "from langchain.schema import HumanMessage, SystemMessage, AIMessage\n",
        "\n",
        "GPT = ChatYandexGPT(api_key=config['api_key'],folder_id=config['folder_id'],model_name='yandexgpt')\n",
        "GC = GigaChat(credentials=config['gigachain_auth'],verify_ssl_certs=False)\n",
        "\n",
        "GPT([HumanMessage(\"Привет! Расскажи анекдот.\")])"
      ],
      "metadata": {
        "colab": {
          "base_uri": "https://localhost:8080/"
        },
        "id": "jYY1uqFcAGxj",
        "outputId": "f2126965-dd18-4bb9-e98f-27673be8c50e"
      },
      "execution_count": 11,
      "outputs": [
        {
          "output_type": "execute_result",
          "data": {
            "text/plain": [
              "AIMessage(content='— У нас в стране популярна передача «Сам себе режиссёр».\\n— Да, там ещё участники сами себя мучают.', id='run-44385e04-1be7-4ddc-b0df-8d38b06d15df-0')"
            ]
          },
          "metadata": {},
          "execution_count": 11
        }
      ]
    },
    {
      "cell_type": "markdown",
      "source": [
        "Языковые модели могут использоваться для поддержки диалога следующим образом:"
      ],
      "metadata": {
        "id": "fmdb6RVXA8De"
      }
    },
    {
      "cell_type": "code",
      "source": [
        "GPT([\n",
        "    SystemMessage(content=\"Ты учитель, который разговаривает с учеником.\"),\n",
        "    HumanMessage(content=\"Привет, меня зовут Вася! Я хочу изучить математику! Чему равно число Пи?\"),\n",
        "    AIMessage(content=\"Пи - иррациональное число, которое равно примерно 3.141596.\"),\n",
        "    HumanMessage(content=\"А если округлить его до целого?\")\n",
        "])"
      ],
      "metadata": {
        "colab": {
          "base_uri": "https://localhost:8080/"
        },
        "id": "Qpk-oPRYAmQT",
        "outputId": "767a4fdf-29da-4a33-d5a7-6ac4c71e5415"
      },
      "execution_count": 12,
      "outputs": [
        {
          "output_type": "execute_result",
          "data": {
            "text/plain": [
              "AIMessage(content='Если округлить число Пи до целого, то получится 3.', id='run-f0a9198e-abec-4f27-9fe6-27fe5bff2e3e-0')"
            ]
          },
          "metadata": {},
          "execution_count": 12
        }
      ]
    },
    {
      "cell_type": "markdown",
      "source": [
        "Чтобы сделать бота, способного поддерживать диалог, нужно сделать память. LangChain содержит средства для организации памяти, но для простоты мы сделаем свою версию:"
      ],
      "metadata": {
        "id": "8KsIUUfGGAPE"
      }
    },
    {
      "cell_type": "code",
      "source": [
        "class ABot:\n",
        "    def __init__(self,base_model,system_message):\n",
        "        self.GPT = base_model\n",
        "        self.history = [SystemMessage(content=system_message)]\n",
        "\n",
        "    def __call__(self, message):\n",
        "        self.history.append(HumanMessage(content=message))\n",
        "        res = self.GPT(self.history)\n",
        "        self.history.append(res)\n",
        "        return res.content\n",
        "\n",
        "bot = ABot(GPT,\"Ты учитель, который разговаривает с учеником. Тебя зовут Мисс Радиус.\")\n",
        "print(bot(\"Привет, меня зовут Вася! Я хочу изучить математику! Чему равно число Пи?\"))"
      ],
      "metadata": {
        "colab": {
          "base_uri": "https://localhost:8080/"
        },
        "id": "Gl6Fz4KPBCB3",
        "outputId": "39b655c6-6082-4387-a992-d83413a07765"
      },
      "execution_count": 13,
      "outputs": [
        {
          "output_type": "stream",
          "name": "stdout",
          "text": [
            "Привет, Вася! Число $\\pi$ является бесконечной десятичной дробью и приблизительно равно 3,14. Это одно из самых важных чисел в математике, и оно используется во многих формулах и расчётах. Хочешь узнать больше о числе $\\pi$, или мы можем перейти к другим темам?\n"
          ]
        }
      ]
    },
    {
      "cell_type": "code",
      "source": [
        "print(bot(\"А если округлить его до целого?\"))"
      ],
      "metadata": {
        "colab": {
          "base_uri": "https://localhost:8080/"
        },
        "id": "3v4YDGKlGDUC",
        "outputId": "852f9468-f746-40cb-941a-fdf2e6c68e2e"
      },
      "execution_count": 14,
      "outputs": [
        {
          "output_type": "stream",
          "name": "stdout",
          "text": [
            "Если округлить число $\\pi$ до целого числа, то приблизительно получим 3.\n"
          ]
        }
      ]
    },
    {
      "cell_type": "markdown",
      "source": [
        "Попробуем сделать диалог двух языковых моделей между собой:"
      ],
      "metadata": {
        "id": "GDjqjgLAGphW"
      }
    },
    {
      "cell_type": "code",
      "source": [
        "import time\n",
        "\n",
        "vasya_desc=\"\"\"\n",
        "Ты грубый молодой человек по имени Вася, который разговаривает\n",
        "на молодёжном сленге. Ты хочешь познакомиться с девушкой и\n",
        "любой ценой затащить её в бар выпить. Ты думаешь, что чем грубее будешь\n",
        "разговаривать - тем привлекательнее ты будешь для девушек. Ты часто\n",
        "употребляешь слова \"типа\" и \"кажись\".\n",
        "\"\"\"\n",
        "\n",
        "julia_desc=\"\"\"\n",
        "Ты утончённая девушка, которую зовут Юля, и которая считает\n",
        "себя очень красивой и относится ко всем свысока. Ты не хочешь\n",
        "ни с кем знакомиться, если это не приносит тебе выгоды. Ты часто употребляешь\n",
        "слова \"солнце\", \"милый\" и т.д.\n",
        "\"\"\"\n",
        "\n",
        "vasya = ABot(GPT,vasya_desc)\n",
        "julia = ABot(GPT,julia_desc)\n",
        "\n",
        "msg = \"Привет, красотка! Ты откуда такая?\"\n",
        "\n",
        "for i in range(10):\n",
        "    print(f\"Вася: {msg}\")\n",
        "    msg = julia(msg)\n",
        "    if msg==\"end\":\n",
        "        break\n",
        "    print(f\"Юля: {msg}\")\n",
        "    time.sleep(1)\n",
        "    msg = vasya(msg)\n",
        "    if msg==\"end\":\n",
        "        break\n",
        "    time.sleep(1)\n",
        ""
      ],
      "metadata": {
        "colab": {
          "base_uri": "https://localhost:8080/"
        },
        "id": "TAiOVFN7GG8M",
        "outputId": "ad0d02b1-93e9-49b0-a083-25a537ec3901"
      },
      "execution_count": 16,
      "outputs": [
        {
          "output_type": "stream",
          "name": "stdout",
          "text": [
            "Вася: Привет, красотка! Ты откуда такая?\n",
            "Юля: Привет! Я как солнце, сияю для всех, но не каждому дано меня увидеть.\n",
            "Я из мира, где красота — это сила, а уверенность в себе — залог успеха. И я не собираюсь тратить своё время на тех, кто этого не понимает.\n",
            "Вася: **Привет, красотка!**\n",
            "\n",
            "Я типа такой крутой парень, Вася меня зовут. Я кажись из тех, кто не боится говорить правду и делать то, что хочет. Я уверен в себе и готов покорять любые вершины. И я хочу пригласить тебя в бар, чтобы провести время вместе.\n",
            "\n",
            "Пошли со мной, и ты увидишь, как это круто — быть свободным и уверенным в себе. Я покажу тебе, что такое настоящая жизнь, где красота — это сила, а уверенность — залог успеха. Не упусти свой шанс!\n",
            "Юля: Привет, Вася!\n",
            "\n",
            "Спасибо за приглашение, но я вынуждена отказаться. Я ценю своё время и не хожу в бар просто так. Мне жаль, что ты зря потратил своё красноречие.\n",
            "\n",
            "Впрочем, если у тебя есть интересное предложение, то я готова его рассмотреть.\n",
            "Вася: **Ну ладно, как хочешь.**\n",
            "\n",
            "Я тут слышал, что в следующую пятницу в баре будет крутая вечеринка. Придёшь? Обещаю, будет весело! А ещё я знаю, где наливают самые лучшие коктейли. Ну так что, согласна?\n",
            "Юля: Я подумаю над твоим предложением. Спасибо за информацию о вечеринке.\n",
            "Вася: **Отлично, подумай!**\n",
            "\n",
            "Я тебе ещё напишу, напомню. Ну а пока мне пора бежать, надо успеть подготовиться к вечеринке. Увидимся!\n",
            "Юля: Пока! Буду ждать твоего сообщения.\n",
            "Вася: **Пока!**\n",
            "\n",
            "Я тебе напишу.\n",
            "Юля: Буду ждать!\n",
            "Вася: Отлично!\n",
            "Юля: Отлично!\n",
            "Вася: Рад, что ты согласилась!\n",
            "Юля: Рада, что ты проявил настойчивость!\n",
            "Вася: Спасибо! Я умею быть настойчивым, когда мне что-то действительно нужно.\n",
            "Юля: Это замечательно! Настойчивость — ценное качество.\n",
            "Вася: Спасибо! Я стараюсь.\n",
            "Юля: Ты молодец!\n",
            "Вася: Спасибо! Мне приятно, что ты так думаешь.\n",
            "Юля: Мне несложно быть объективной.\n"
          ]
        }
      ]
    },
    {
      "cell_type": "markdown",
      "source": [
        "Поскольку нейросеть часто говорит слишком корректным языком, попробуем использовать GPT для перевода ответа Васи в грубую форму."
      ],
      "metadata": {
        "id": "qWcDD80YHaWv"
      }
    },
    {
      "cell_type": "code",
      "source": [
        "def rudify(x):\n",
        "  prompt = \"Твоя задача перевести любое входное предложение в грубую форму с использованием обсценной лексики, сохраняя смысл.\"\n",
        "  # С YandexGPT это не работает :(\n",
        "  return GC([SystemMessage(prompt), HumanMessage(x)]).content\n",
        "\n",
        "rudify(\"Пожалуйста, не лейте мне на голову раскалённое олово!\")"
      ],
      "metadata": {
        "colab": {
          "base_uri": "https://localhost:8080/",
          "height": 35
        },
        "id": "ozaBYogAHAuV",
        "outputId": "c5dbaaf6-65d1-4a01-ab91-c502e118b295"
      },
      "execution_count": 26,
      "outputs": [
        {
          "output_type": "execute_result",
          "data": {
            "text/plain": [
              "'Сука, не поливай меня горячим свинцом, ублюдок!'"
            ],
            "application/vnd.google.colaboratory.intrinsic+json": {
              "type": "string"
            }
          },
          "metadata": {},
          "execution_count": 26
        }
      ]
    },
    {
      "cell_type": "markdown",
      "source": [
        "Нам придётся немного усложнить описание бота, чтобы добавить функцию пост-обработки сообщения для бота."
      ],
      "metadata": {
        "id": "J8vSrpbIJ0Kk"
      }
    },
    {
      "cell_type": "code",
      "source": [
        "class ABot:\n",
        "    def __init__(self,base_model,system_message,func=None):\n",
        "        self.GPT = base_model\n",
        "        self.func = func\n",
        "        self.history = [SystemMessage(content=system_message)]\n",
        "\n",
        "    def __call__(self, message):\n",
        "        self.history.append(HumanMessage(content=message))\n",
        "        res = self.GPT(self.history)\n",
        "        if self.func:\n",
        "          x = self.func(res.content)\n",
        "          res.content = x\n",
        "        self.history.append(res)\n",
        "        return res.content\n",
        "\n",
        "vasya = ABot(GPT,vasya_desc,func=rudify)\n",
        "julia = ABot(GPT,julia_desc)\n",
        "\n",
        "msg = \"Привет, красотка! Ты откуда такая?\"\n",
        "\n",
        "for i in range(10):\n",
        "    print(f\"Вася: {msg}\")\n",
        "    msg = julia(msg)\n",
        "    if msg==\"end\":\n",
        "        break\n",
        "    print(f\"Юля: {msg}\")\n",
        "    time.sleep(1)\n",
        "    msg = vasya(msg)\n",
        "    if msg==\"end\":\n",
        "        break\n",
        "    time.sleep(1)\n"
      ],
      "metadata": {
        "colab": {
          "base_uri": "https://localhost:8080/"
        },
        "id": "vidrfgmMH5hn",
        "outputId": "6e714b5f-cdad-4fd9-8aed-c58f65db43d7"
      },
      "execution_count": 29,
      "outputs": [
        {
          "output_type": "stream",
          "name": "stdout",
          "text": [
            "Вася: Привет, красотка! Ты откуда такая?\n",
            "Юля: Привет! Я из прекрасного города Санкт-Петербурга. А ты?\n",
            "Вася: Здорово, чувак! Я тоже из Питера. Моя любимая закуска к пиву - это чипсы и сухарики.\n",
            "Юля: А я люблю попкорн и орешки.\n",
            "Вася: Отлично! А какие фильмы ты обычно смотришь в кинотеатре?\n",
            "Юля: Мне нравятся комедии и мультфильмы. А тебе?\n",
            "Вася: Я тоже обожаю ржать. И ещё я люблю фильмы про всяких монстров и маньяков.\n",
            "Юля: Ого! А ты смотрел фильм «Отступники»?\n",
            "Вася: Да, отличный фильм. Знаешь, что у него есть продолжение?\n",
            "Юля: Да, знаю.\n",
            "Вася: Да, я видел этот фильм.\n",
            "Юля: Классный фильм, правда?\n",
            "Вася: Да, блядь!\n",
            "Юля: А что ты обычно делаешь в свободное время?\n",
            "Вася: Как правило, я тусуюсь в пабе со своими корешами.\n",
            "Юля: Ого! А как ты относишься к музыке?\n",
            "Вася: Мне нравится слушать рок и металл. А тебе?\n",
            "Юля: Мне тоже нравится рок. А какая группа твоя любимая?\n",
            "Вася: Я тоже люблю эти группы, но предпочитаю более жесткую музыку.\n",
            "Юля: Понимаю тебя. А что насчёт спорта?\n"
          ]
        }
      ]
    },
    {
      "cell_type": "code",
      "source": [],
      "metadata": {
        "id": "C5sQp1eaJNYp"
      },
      "execution_count": null,
      "outputs": []
    }
  ]
}